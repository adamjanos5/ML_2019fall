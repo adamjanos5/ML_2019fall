{
 "cells": [
  {
   "cell_type": "code",
   "execution_count": 1,
   "metadata": {},
   "outputs": [
    {
     "name": "stderr",
     "output_type": "stream",
     "text": [
      "Using TensorFlow backend.\n",
      "C:\\Users\\adamj\\AppData\\Roaming\\Python\\Python36\\site-packages\\tensorflow\\python\\framework\\dtypes.py:523: FutureWarning: Passing (type, 1) or '1type' as a synonym of type is deprecated; in a future version of numpy, it will be understood as (type, (1,)) / '(1,)type'.\n",
      "  _np_qint8 = np.dtype([(\"qint8\", np.int8, 1)])\n",
      "C:\\Users\\adamj\\AppData\\Roaming\\Python\\Python36\\site-packages\\tensorflow\\python\\framework\\dtypes.py:524: FutureWarning: Passing (type, 1) or '1type' as a synonym of type is deprecated; in a future version of numpy, it will be understood as (type, (1,)) / '(1,)type'.\n",
      "  _np_quint8 = np.dtype([(\"quint8\", np.uint8, 1)])\n",
      "C:\\Users\\adamj\\AppData\\Roaming\\Python\\Python36\\site-packages\\tensorflow\\python\\framework\\dtypes.py:525: FutureWarning: Passing (type, 1) or '1type' as a synonym of type is deprecated; in a future version of numpy, it will be understood as (type, (1,)) / '(1,)type'.\n",
      "  _np_qint16 = np.dtype([(\"qint16\", np.int16, 1)])\n",
      "C:\\Users\\adamj\\AppData\\Roaming\\Python\\Python36\\site-packages\\tensorflow\\python\\framework\\dtypes.py:526: FutureWarning: Passing (type, 1) or '1type' as a synonym of type is deprecated; in a future version of numpy, it will be understood as (type, (1,)) / '(1,)type'.\n",
      "  _np_quint16 = np.dtype([(\"quint16\", np.uint16, 1)])\n",
      "C:\\Users\\adamj\\AppData\\Roaming\\Python\\Python36\\site-packages\\tensorflow\\python\\framework\\dtypes.py:527: FutureWarning: Passing (type, 1) or '1type' as a synonym of type is deprecated; in a future version of numpy, it will be understood as (type, (1,)) / '(1,)type'.\n",
      "  _np_qint32 = np.dtype([(\"qint32\", np.int32, 1)])\n",
      "C:\\Users\\adamj\\AppData\\Roaming\\Python\\Python36\\site-packages\\tensorflow\\python\\framework\\dtypes.py:532: FutureWarning: Passing (type, 1) or '1type' as a synonym of type is deprecated; in a future version of numpy, it will be understood as (type, (1,)) / '(1,)type'.\n",
      "  np_resource = np.dtype([(\"resource\", np.ubyte, 1)])\n"
     ]
    }
   ],
   "source": [
    "from __future__ import print_function\n",
    "import keras,sklearn\n",
    "# suppress tensorflow compilation warnings\n",
    "import os\n",
    "os.environ['KMP_DUPLICATE_LIB_OK']='True'\n",
    "import tensorflow as tf\n",
    "os.environ['TF_CPP_MIN_LOG_LEVEL'] = '2'\n",
    "import numpy as np\n",
    "seed=0\n",
    "np.random.seed(seed) # fix random seed\n",
    "tf.set_random_seed(seed)\n",
    "import matplotlib.pyplot as plt\n",
    "\n",
    "from keras.datasets import fashion_mnist, mnist\n",
    "from keras.models import Sequential, Model\n",
    "from keras.layers import Dense, Dropout, Flatten, BatchNormalization\n",
    "from keras.layers import Conv2D, MaxPooling2D\n",
    "from keras import backend as K\n",
    "from keras import regularizers\n",
    "\n",
    "TrainSize = 60000\n",
    "TestSize = 10000\n",
    "\n",
    "img_rows, img_cols = 28, 28 # number of pixels \n",
    "num_classes = 10\n",
    "# the data, shuffled and split between train and test sets\n",
    "(X_train, Y_train), (X_test, Y_test) = mnist.load_data()\n",
    "\n",
    "# reshape data, depending on Keras backend\n",
    "X_train = X_train.reshape(TrainSize, img_rows,img_cols)\n",
    "X_test = X_test.reshape(TestSize, img_rows,img_cols)\n",
    "    \n",
    "# cast floats to single precesion\n",
    "X_train = X_train.astype('float32')\n",
    "X_test = X_test.astype('float32')\n",
    "\n",
    "X_train /= 255\n",
    "X_test /= 255\n",
    "\n",
    "TrainNoise = np.random.rand(60000,28,28)\n",
    "TestNoise = np.random.rand(10000,28,28)\n",
    "\n",
    "X_train_noisy = X_train + TrainNoise*2\n",
    "X_test_noisy = X_test + TestNoise*2\n",
    "\n",
    "\n",
    "# look at an example of data point\n",
    "\n",
    "\n",
    "# reshape data, depending on Keras backend\n",
    "if keras.backend.image_data_format() == 'channels_first':\n",
    "    X_train = X_train.reshape(X_train.shape[0], 1, img_rows, img_cols)\n",
    "    X_test = X_test.reshape(X_test.shape[0], 1, img_rows, img_cols)\n",
    "    input_shape = (1, img_rows, img_cols)\n",
    "    \n",
    "    X_train_noisy = X_train_noisy.reshape(X_train_noisy.shape[0], 1, img_rows, img_cols)\n",
    "    X_test_noisy = X_test_noisy.reshape(X_test_noisy.shape[0], 1, img_rows, img_cols)\n",
    "\n",
    "else:\n",
    "    X_train = X_train.reshape(X_train.shape[0], img_rows, img_cols, 1)\n",
    "    X_test = X_test.reshape(X_test.shape[0], img_rows, img_cols, 1)\n",
    "    \n",
    "    X_train_noisy = X_train_noisy.reshape(X_train_noisy.shape[0], img_rows, img_cols, 1)\n",
    "    X_test_noisy = X_test_noisy.reshape(X_test_noisy.shape[0], img_rows, img_cols, 1)\n",
    "    \n",
    "    \n",
    "    input_shape = (img_rows, img_cols, 1)\n",
    "    \n",
    "# convert class vectors to binary class matrices\n",
    "Y_train = keras.utils.to_categorical(Y_train, num_classes)\n",
    "Y_test = keras.utils.to_categorical(Y_test, num_classes)\n",
    "\n",
    "\n",
    "\n"
   ]
  },
  {
   "cell_type": "code",
   "execution_count": 2,
   "metadata": {},
   "outputs": [
    {
     "name": "stdout",
     "output_type": "stream",
     "text": [
      "_________________________________________________________________\n",
      "Layer (type)                 Output Shape              Param #   \n",
      "=================================================================\n",
      "conv2d_1 (Conv2D)            (None, 28, 28, 5)         25        \n",
      "_________________________________________________________________\n",
      "dropout_1 (Dropout)          (None, 28, 28, 5)         0         \n",
      "_________________________________________________________________\n",
      "conv2d_2 (Conv2D)            (None, 28, 28, 1)         21        \n",
      "=================================================================\n",
      "Total params: 46\n",
      "Trainable params: 46\n",
      "Non-trainable params: 0\n",
      "_________________________________________________________________\n",
      "Model compiled successfully and ready to be trained.\n"
     ]
    }
   ],
   "source": [
    "def create_CNN():\n",
    "    # instantiate model\n",
    "    model = Sequential()\n",
    "    \n",
    "    model.add(Conv2D(5, kernel_size=(2, 2),padding='same',\n",
    "                     activation='relu',\n",
    "                     input_shape=input_shape))\n",
    "    #model.add(BatchNormalization())\n",
    "    model.add(Dropout(0.5))\n",
    "    model.add(Conv2D(1, (2, 2), padding='same',activation='relu'))\n",
    "    # compile the model\n",
    "    model.compile(loss='mean_squared_error',\n",
    "                  optimizer='Adam',\n",
    "                  metrics=['accuracy'])\n",
    "    \n",
    "    model.summary()\n",
    "    \n",
    "    return model\n",
    "\n",
    "# training parameters\n",
    "batch_size = 30\n",
    "epochs = 5\n",
    "\n",
    "# get output from intermediate layer\n",
    "model_CNN=create_CNN()\n",
    "\n",
    "print('Model compiled successfully and ready to be trained.')\n"
   ]
  },
  {
   "cell_type": "code",
   "execution_count": 3,
   "metadata": {},
   "outputs": [
    {
     "name": "stdout",
     "output_type": "stream",
     "text": [
      "Train on 60000 samples, validate on 10000 samples\n",
      "Epoch 1/5\n",
      "60000/60000 [==============================] - 26s 436us/step - loss: 0.1224 - acc: 0.7945 - val_loss: 0.1140 - val_acc: 0.8072\n",
      "Epoch 2/5\n",
      "60000/60000 [==============================] - 28s 470us/step - loss: 0.1065 - acc: 0.8080 - val_loss: 0.0545 - val_acc: 0.8088\n",
      "Epoch 3/5\n",
      "60000/60000 [==============================] - 28s 474us/step - loss: 0.0580 - acc: 0.8080 - val_loss: 0.0452 - val_acc: 0.8099\n",
      "Epoch 4/5\n",
      "60000/60000 [==============================] - 29s 477us/step - loss: 0.0523 - acc: 0.8095 - val_loss: 0.0413 - val_acc: 0.8101\n",
      "Epoch 5/5\n",
      "60000/60000 [==============================] - 27s 451us/step - loss: 0.0517 - acc: 0.8096 - val_loss: 0.0417 - val_acc: 0.8102\n",
      "10000/10000 [==============================] - 2s 207us/step\n",
      "\n",
      "Test loss: 0.04168524315357208\n",
      "Test accuracy: 0.810155103969574\n"
     ]
    }
   ],
   "source": [
    "# train CNN\n",
    "model_CNN.fit(X_train_noisy, X_train,\n",
    "          batch_size=batch_size,\n",
    "          epochs=epochs,\n",
    "          verbose=1,\n",
    "          validation_data=(X_test_noisy, X_test))\n",
    "\n",
    "# evaluate model\n",
    "score = model_CNN.evaluate(X_test_noisy, X_test, verbose=1)\n",
    "\n",
    "# print performance\n",
    "print()\n",
    "print('Test loss:', score[0])\n",
    "print('Test accuracy:', score[1])\n",
    "\n"
   ]
  },
  {
   "cell_type": "code",
   "execution_count": 4,
   "metadata": {},
   "outputs": [],
   "source": [
    "get_2nd_layer_output = K.function([model_CNN.layers[0].input],\n",
    "                                  [model_CNN.layers[2].output])\n",
    "layer_output = get_2nd_layer_output([X_test_noisy])[0]\n",
    "\n"
   ]
  },
  {
   "cell_type": "code",
   "execution_count": 5,
   "metadata": {},
   "outputs": [
    {
     "data": {
      "image/png": "[encoded data removed]",
      "text/plain": [
       "<Figure size 432x288 with 4 Axes>"
      ]
     },
     "metadata": {
      "needs_background": "light"
     },
     "output_type": "display_data"
    },
    {
     "data": {
      "image/png": "[encoded data removed]",
      "text/plain": [
       "<Figure size 432x288 with 4 Axes>"
      ]
     },
     "metadata": {
      "needs_background": "light"
     },
     "output_type": "display_data"
    }
   ],
   "source": [
    "## visualize testing\n",
    "X_test_plot=X_test.reshape(10000,28,28)\n",
    "X_test_noisy_plot=X_test_noisy.reshape(10000,28,28)\n",
    "plotout=layer_output.reshape(10000,28,28)\n",
    "\n",
    "showNo1 = 3487;\n",
    "showNo2 = 8100;\n",
    "X_test_res = X_test_plot - plotout\n",
    "fig,axarr = plt.subplots(nrows=1, ncols=4)\n",
    "axarr[0].imshow(X_test_noisy_plot[showNo1,:],cmap='binary')\n",
    "axarr[1].imshow(X_test_plot[showNo1,:],cmap='binary')\n",
    "axarr[2].imshow(plotout[showNo1,:],cmap='binary')\n",
    "axarr[3].imshow(X_test_res[showNo1,:],cmap='binary')\n",
    "\n",
    "plt.show()\n",
    "\n",
    "fig,axarr = plt.subplots(nrows=1, ncols=4)\n",
    "axarr[0].imshow(X_test_noisy_plot[showNo2,:],cmap='binary')\n",
    "axarr[1].imshow(X_test_plot[showNo2,:],cmap='binary')\n",
    "axarr[2].imshow(plotout[showNo2,:],cmap='binary')\n",
    "axarr[3].imshow(X_test_res[showNo2,:],cmap='binary')\n",
    "plt.show()\n"
   ]
  },
  {
   "cell_type": "code",
   "execution_count": 6,
   "metadata": {},
   "outputs": [
    {
     "ename": "ValueError",
     "evalue": "cannot reshape array of size 7840000 into shape (60000,28,28)",
     "output_type": "error",
     "traceback": [
      "\u001b[1;31m---------------------------------------------------------------------------\u001b[0m",
      "\u001b[1;31mValueError\u001b[0m                                Traceback (most recent call last)",
      "\u001b[1;32m<ipython-input-6-f7dcae58ecc7>\u001b[0m in \u001b[0;36m<module>\u001b[1;34m\u001b[0m\n\u001b[0;32m      2\u001b[0m \u001b[0mX_train_plot\u001b[0m\u001b[1;33m=\u001b[0m\u001b[0mX_train\u001b[0m\u001b[1;33m.\u001b[0m\u001b[0mreshape\u001b[0m\u001b[1;33m(\u001b[0m\u001b[1;36m60000\u001b[0m\u001b[1;33m,\u001b[0m\u001b[1;36m28\u001b[0m\u001b[1;33m,\u001b[0m\u001b[1;36m28\u001b[0m\u001b[1;33m)\u001b[0m\u001b[1;33m\u001b[0m\u001b[1;33m\u001b[0m\u001b[0m\n\u001b[0;32m      3\u001b[0m \u001b[0mX_train_noisy_plot\u001b[0m\u001b[1;33m=\u001b[0m\u001b[0mX_train_noisy\u001b[0m\u001b[1;33m.\u001b[0m\u001b[0mreshape\u001b[0m\u001b[1;33m(\u001b[0m\u001b[1;36m60000\u001b[0m\u001b[1;33m,\u001b[0m\u001b[1;36m28\u001b[0m\u001b[1;33m,\u001b[0m\u001b[1;36m28\u001b[0m\u001b[1;33m)\u001b[0m\u001b[1;33m\u001b[0m\u001b[1;33m\u001b[0m\u001b[0m\n\u001b[1;32m----> 4\u001b[1;33m \u001b[0mplotout\u001b[0m\u001b[1;33m=\u001b[0m\u001b[0mlayer_output\u001b[0m\u001b[1;33m.\u001b[0m\u001b[0mreshape\u001b[0m\u001b[1;33m(\u001b[0m\u001b[1;36m60000\u001b[0m\u001b[1;33m,\u001b[0m\u001b[1;36m28\u001b[0m\u001b[1;33m,\u001b[0m\u001b[1;36m28\u001b[0m\u001b[1;33m)\u001b[0m\u001b[1;33m\u001b[0m\u001b[1;33m\u001b[0m\u001b[0m\n\u001b[0m\u001b[0;32m      5\u001b[0m \u001b[1;33m\u001b[0m\u001b[0m\n\u001b[0;32m      6\u001b[0m \u001b[0mshowNo1\u001b[0m \u001b[1;33m=\u001b[0m \u001b[1;36m34876\u001b[0m\u001b[1;33m;\u001b[0m\u001b[1;33m\u001b[0m\u001b[1;33m\u001b[0m\u001b[0m\n",
      "\u001b[1;31mValueError\u001b[0m: cannot reshape array of size 7840000 into shape (60000,28,28)"
     ]
    }
   ],
   "source": [
    "\n",
    "\n",
    "## visualize training\n",
    "X_train_plot=X_train.reshape(60000,28,28)\n",
    "X_train_noisy_plot=X_train_noisy.reshape(60000,28,28)\n",
    "plotout=layer_output.reshape(60000,28,28)\n",
    "\n",
    "showNo1 = 34876;\n",
    "showNo2 = 4000;\n",
    "\n",
    "X_train_res = X_train_plot - plotout\n",
    "fig,axarr = plt.subplots(nrows=1, ncols=4)\n",
    "axarr[0].imshow(X_train_noisy_plot[showNo1,:],cmap='binary')\n",
    "axarr[1].imshow(X_train_plot[showNo1,:],cmap='binary')\n",
    "axarr[2].imshow(plotout[showNo1,:],cmap='binary')\n",
    "axarr[3].imshow(X_train_res[showNo1,:],cmap='binary')\n",
    "\n",
    "plt.show()\n",
    "\n",
    "fig,axarr = plt.subplots(nrows=1, ncols=4)\n",
    "axarr[0].imshow(X_train_noisy_plot[showNo2,:],cmap='binary')\n",
    "axarr[1].imshow(X_train_plot[showNo2,:],cmap='binary')\n",
    "axarr[2].imshow(plotout[showNo2,:],cmap='binary')\n",
    "axarr[3].imshow(X_train_res[showNo2,:],cmap='binary')\n",
    "plt.show()"
   ]
  },
  {
   "cell_type": "code",
   "execution_count": null,
   "metadata": {},
   "outputs": [],
   "source": []
  }
 ],
 "metadata": {
  "kernelspec": {
   "display_name": "Python 3",
   "language": "python",
   "name": "python3"
  },
  "language_info": {
   "codemirror_mode": {
    "name": "ipython",
    "version": 3
   },
   "file_extension": ".py",
   "mimetype": "text/x-python",
   "name": "python",
   "nbconvert_exporter": "python",
   "pygments_lexer": "ipython3",
   "version": "3.6.9"
  }
 },
 "nbformat": 4,
 "nbformat_minor": 2
}
